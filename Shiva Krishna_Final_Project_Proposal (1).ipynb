{
 "cells": [
  {
   "cell_type": "markdown",
   "id": "e1c204f2",
   "metadata": {
    "id": "e1c204f2"
   },
   "source": [
    "# <center>Machine Learning based Personal Bank Loan Eligibility Assessment System<br></center>\n",
    "## <center>Final Project Proposal</center>\n",
    "## <center>Prepared by: Shiva Krishna</center>"
   ]
  },
  {
   "cell_type": "markdown",
   "id": "1815f0ee",
   "metadata": {
    "id": "1815f0ee"
   },
   "source": [
    "### __Introduction__\n",
    "***"
   ]
  },
  {
   "cell_type": "markdown",
   "id": "f4bdb98a",
   "metadata": {
    "id": "f4bdb98a"
   },
   "source": [
    "In the fast-evolving landscape of finance and technology, the integration of machine learning has become pivotal in enhancing efficiency, accuracy, and decision-making processes. The \"Machine Learning-based Bank Loan Eligibility Assessment System\" represents a cutting-edge initiative aimed at revolutionizing the traditional methods of evaluating loan eligibility. This project leverages the power of advanced algorithms and data analytics to provide a more comprehensive, objective, and timely assessment of an individual's eligibility for a bank loan.\n",
    "\n",
    "\n",
    "Here are few stats regarding Personal Bank Loans:\n",
    "1. Majority of the Personal Loans provided by Banks are Unsecured and hence can be of high risk.[1]\n",
    "\n",
    "2. Balance of Personal Loan worldwide is increasing rapidly Year on Year.[2]\n",
    "\n",
    "3. The Avergae Personal Loan Amount is around USD 11000 currently which is increasing Year on Year.[3]\n",
    "\n",
    "\n",
    "In essence, the Machine Learning-based Bank Loan Eligibility Assessment System stands at the forefront of innovation in the financial sector, offering a more efficient, accurate, and customer-centric approach to loan approval. As technology continues to evolve, this research represents a significant step towards shaping the future of lending practices. \n",
    "Over the last three years, there has been an upward trend in the number of individuals acquiring new unsecured personal loans in the United States. Simultaneously, the average balance of personal loans has increased. While the surge is anticipated, considering the diverse range of purposes personal loans serve for individuals seeking financial support, the question remains whether this upward trajectory will persist into the coming year.[4]"
   ]
  },
  {
   "cell_type": "markdown",
   "id": "14f7f600",
   "metadata": {
    "id": "14f7f600"
   },
   "source": [
    "### __Research Questions__\n",
    "***"
   ]
  },
  {
   "cell_type": "markdown",
   "id": "3f3359cd",
   "metadata": {
    "id": "3f3359cd"
   },
   "source": [
    "Below are the questions that the research will be focused on.\n",
    "\n",
    "1. Are there available Trends and Pattern present in multiple Datasets related to Bank Loans?\n",
    " > To answer this question, we will need to involve several data cleaning and preprocesing techniques and study the correlation inbetween different parameters.\n",
    "\n",
    "2. Are there specific factors which are very important for Bank Loans? If yes, what are they and how they affect overall aplication.\n",
    "> We will be applying different techniques in our code which Data Pre processing and beyond to reveal what factors are more important for Bank Loan Process and how much important each factors are.\n",
    "\n",
    "3. Are there similar Corelation inbetween features of different datasets from different regions?\n",
    "> To Answer this question, we will need to aquire different Bank Loan datasets from various sources which contains data from different geograhical regions. By Analysis the dataset individually and comparing the results we will be able to answer the above question.\n",
    "\n",
    "4. Can we Train a Machine Learning Model to Accurately Predict the result of Bank Loan Application?\n",
    "> To Train fand test few different Machine Learning Model to verify if ML Models can predict Bank Loan Application outcomes with high accuracy. Also, we will be able to get information about accuracy of ML model on different datasets from different regions.\n",
    "\n",
    "5. Can we accurately find few Top Most important Factors and Parameter in regards with Bank Loan?\n",
    "> For getting this result, we will need to analyse the data and find the details about what data is most important in terms of Loan Outcomes using different algorithms and Techniques.\n",
    "\n",
    "\n",
    "Our Analysis and Results will be useful for both the Lenders and Borrowers. By identifying patterns and correlations in vast datasets, the system provides a more accurate prediction of loan outcomes, enabling financial institutions to make informed decisions. The finding can be useful for lenders to avoid giving Loans to Borrowers who are more likely to be defaulters and hence increasing overall efficiency of the Loans. Also, for Borrowers, it will be easier for them to access the processed information about Banl Loan and what factors are really important for a Successful Bank Loan Appliacation. This not only can streamline the lending process but can also contributes to a more equitable distribution of credit, ensuring that deserving applicants receive loans while minimizing the exposure to potential defaults."
   ]
  },
  {
   "cell_type": "markdown",
   "id": "2ad4e017",
   "metadata": {
    "id": "2ad4e017"
   },
   "source": [
    "### __Data Source__\n",
    "***"
   ]
  },
  {
   "cell_type": "markdown",
   "id": "15ab52cb",
   "metadata": {
    "id": "15ab52cb"
   },
   "source": [
    "1. https://github.com/shrikant-temburwar/Loan-Prediction-Dataset\n",
    "\n",
    "    The dataset provided by the company wants to automate the loan eligibility process (real time) based on customer detail provided while filling online application form. The dataset is provided in csv format from the mentioned source.\n",
    "\n",
    "\n",
    "2. https://www.scribd.com/document/429335323/Thera-Bank-Personal-Loan-Modelling-dataset-1\n",
    "\n",
    "    Thera Bank has a bunch of customers who currently use their services for things like having a savings account or putting money in fixed deposits. Now, the bank wants to figure out how to convince these customers to also take out personal loans from the bank, all while making sure they keep their savings accounts or other deposits with the bank. The goal is to find effective ways to turn these customers into not just savers but also borrowers, ultimately benefiting both the customers and the bank. We will be using Web Scraping to collect the data from the mentioned source.\n",
    "\n",
    "\n",
    "3. https://de.tradingeconomics.com/india/loan-growth\n",
    "\n",
    "    This dataset provides the latest reported value for - India Bank Loan Growth - plus previous releases, historical high and low, short-term forecast and long-term prediction, economic calendar, survey consensus and news. The data is available in csv as well as API is provided for accessing the data.\n",
    "\n",
    "\n",
    "4. https://archive.ics.uci.edu/dataset/144/statlog+german+credit+data\n",
    "\n",
    "    Statlog (German Credit Data): This dataset classifies people described by a set of attributes as good or bad credit risks. Comes in two formats (one all numeric). The data available at the mentioned source is in .data format which is basically a pre processed form of csv data.\n",
    "\n",
    "\n",
    "We are actively looking and reviewing more number of dataset and data sources for us to use the most suitable one and able to contribute in a much better way,"
   ]
  },
  {
   "cell_type": "markdown",
   "id": "6e871008",
   "metadata": {
    "id": "6e871008"
   },
   "source": [
    "### __Approach__\n",
    "***"
   ]
  },
  {
   "cell_type": "markdown",
   "id": "60c596b2",
   "metadata": {
    "id": "60c596b2"
   },
   "source": [
    "Building a Machine Learning-based Bank Loan Eligibility Assessment System comes with several challenges.Obtaining a substantial and high-quality dataset is crucial for training accurate machine learning models. Incomplete or biased data may lead to suboptimal predictions and affect the system's reliability. Hence, we will be using reliabe data.\n",
    "\n",
    "To address these challenges and create a robust Machine Learning-based Bank Loan Eligibility Assessment System, we will be following the mentioned approach:\n",
    "\n",
    "1. Acquisition of the Data and Dataset through the mentioned sources. Our Team Member \"X\" will be undertaking this task.\n",
    "\n",
    "2. Conduct thorough data preprocessing to handle missing values, outliers, and ensure data quality. Augment the dataset with relevant features that provide a more comprehensive view of the applicant's financial profile. Finding suitable way to use multiple datasets.  Our Team Member \"X\" will be undertaking this task.\n",
    "\n",
    "2. Optimizing the model to minimize false positives (approving loans to customers who may default) while not overly restricting approvals requires careful consideration.  Our Team Member \"X\" will be undertaking this task.\n",
    "\n",
    "3. Correlation analysis assesses the strength and direction of relationships between variables. Correlation coefficients quantify the degree to which changes in one variable correspond to changes in another, providing insights into potential dependencies.  Our Team Member \"X\" will be undertaking this task.\n",
    "\n",
    "4. Data analysis aiming to uncover meaningful patterns in the data. This can include identifying trends, clusters, or anomalies that provide valuable insights for decision-making.  Our Team Member \"X\" will be undertaking this task.\n",
    "\n",
    "By addressing these challenges through a comprehensive and adaptive approach, the Machine Learning-based Bank Loan Eligibility Assessment System can be developed to provide accurate, fair, and transparent loan eligibility predictions while navigating the complexities of the financial landscape. By doing this, the system helps the bank decide who should get a loan and who might struggle to pay it back. This makes the whole loan process quicker and helps the bank avoid giving money to people who might not be able to pay it back. It also helps make sure that loans go to people who are more likely to be able to handle them, making the whole borrowing experience smoother and more accessible for those who truly need it.\n",
    "\n"
   ]
  },
  {
   "cell_type": "markdown",
   "id": "a86c0063",
   "metadata": {
    "id": "a86c0063"
   },
   "source": [
    "### __References__\n",
    "***"
   ]
  },
  {
   "cell_type": "markdown",
   "id": "340b525c",
   "metadata": {
    "id": "340b525c"
   },
   "source": [
    "__[1]__ https://www.investopedia.com/terms/u/unsecuredloan.asp#\n",
    "\n",
    "__[2]__ https://www.livemint.com/news/india/worried-over-high-growth-in-personal-loans-11696615302022.html\n",
    "\n",
    "__[3]__ https://www.investopedia.com/average-personal-loan-amount-7555307\n",
    "\n",
    "__[4]__ https://newsroom.transunioncibil.com/young-borrowers-emerging-as-a-leading-consumer-segment-in-indias-retail-credit-market/\n",
    "\n"
   ]
  }
 ],
 "metadata": {
  "colab": {
   "provenance": []
  },
  "kernelspec": {
   "display_name": "Python 3 (ipykernel)",
   "language": "python",
   "name": "python3"
  },
  "language_info": {
   "codemirror_mode": {
    "name": "ipython",
    "version": 3
   },
   "file_extension": ".py",
   "mimetype": "text/x-python",
   "name": "python",
   "nbconvert_exporter": "python",
   "pygments_lexer": "ipython3",
   "version": "3.11.4"
  }
 },
 "nbformat": 4,
 "nbformat_minor": 5
}
